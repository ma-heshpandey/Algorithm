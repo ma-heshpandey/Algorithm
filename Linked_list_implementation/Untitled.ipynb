{
 "cells": [
  {
   "cell_type": "code",
   "execution_count": 3,
   "id": "da63675a",
   "metadata": {},
   "outputs": [
    {
     "name": "stdout",
     "output_type": "stream",
     "text": [
      "89-->5-->\n"
     ]
    }
   ],
   "source": [
    "class Node:\n",
    "\n",
    "    def __init__(self,data=None,next=None):\n",
    "        self.data = data\n",
    "        self.next = next\n",
    "\n",
    "class LinkedList:\n",
    "\n",
    "    def __init__(self):\n",
    "        self.head = None  #if list is blank and  last of link list will point to None\n",
    "\n",
    "    def insert_at_begining(self,data):\n",
    "        node=Node(data,self.head) #at first it was blank,we added the data so we should change the (head of list= None) to\n",
    "                                # the last node next attribute\n",
    "        self.head=node    #since now list is not blank , head of list points to the first node\n",
    "\n",
    "    def print(self):\n",
    "        if self.head is None:\n",
    "            print(\"Linked List is empty\")\n",
    "            return \n",
    "        \n",
    "        itr=self.head\n",
    "        llstr=''\n",
    "        while itr:\n",
    "            llstr+=str(itr.data)+'-->'\n",
    "            itr=itr.next\n",
    "\n",
    "        print(llstr)\n",
    "\n",
    "\n",
    "\n",
    "if __name__ == '__main__':\n",
    "    ll=LinkedList()\n",
    "    ll.insert_at_begining(5)\n",
    "    ll.insert_at_begining(89)\n",
    "\n",
    "    ll.print()"
   ]
  },
  {
   "cell_type": "code",
   "execution_count": null,
   "id": "a76f1477",
   "metadata": {},
   "outputs": [],
   "source": []
  }
 ],
 "metadata": {
  "kernelspec": {
   "display_name": "Python 3 (ipykernel)",
   "language": "python",
   "name": "python3"
  },
  "language_info": {
   "codemirror_mode": {
    "name": "ipython",
    "version": 3
   },
   "file_extension": ".py",
   "mimetype": "text/x-python",
   "name": "python",
   "nbconvert_exporter": "python",
   "pygments_lexer": "ipython3",
   "version": "3.9.7"
  }
 },
 "nbformat": 4,
 "nbformat_minor": 5
}
