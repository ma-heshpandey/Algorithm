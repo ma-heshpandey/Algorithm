{
 "cells": [
  {
   "cell_type": "code",
   "execution_count": 36,
   "id": "16fef26e",
   "metadata": {},
   "outputs": [
    {
     "name": "stdout",
     "output_type": "stream",
     "text": [
      "150\n",
      "None\n",
      "[[], [], [], [], [], [], [], [], [], [('march 6', 150)]]\n"
     ]
    }
   ],
   "source": [
    "\"\"\" \n",
    "Two method for collosion avoidence in hash_value\n",
    "1. Linear probing: It assigns the value at next avilable space\n",
    "2. Chaining :list or link list is created for connection with same hash_value\n",
    "\"\"\"\n",
    "\n",
    "class HashTable:\n",
    "\n",
    "    def __init__(self,size):\n",
    "        self.size=size          #size of array for using dictionary\n",
    "        self.hash_list=[[] for i in range(self.size)]      #actual array where we will put values\n",
    "\n",
    "    def get_the_hash_index(self,value):\n",
    "        sum=0\n",
    "        for char in value:\n",
    "            sum+=ord(char)  #gives ASCII value\n",
    "        hash_value=sum%self.size\n",
    "        return hash_value\n",
    "\n",
    "\n",
    "    def __setitem__(self, key, val):\n",
    "        h = self.get_the_hash_index(key)\n",
    "        found = False\n",
    "        for idx, element in enumerate(self.hash_list[h]):  #iterate through tuples in list\n",
    "            if len(element)==2 and element[0] == key:\n",
    "                self.hash_list[h][idx] = (key,val)\n",
    "                found = True\n",
    "        if not found:\n",
    "            self.hash_list[h].append((key,val))\n",
    "\n",
    "\n",
    "    def __getitem__(self,key):\n",
    "        h=self.get_the_hash_index(key)\n",
    "        \n",
    "        for element in self.hash_list[h]:\n",
    "            if element[0]==key:\n",
    "                return element[1]  \n",
    "        \n",
    "        #functions return None if return is not executed\n",
    "        # or raise Exception('Key not found')\n",
    "            \n",
    "                \n",
    "                \n",
    "    def __delitem__(self,key):\n",
    "        h=self.get_the_hash_index(key)\n",
    "        \n",
    "        for index,element in enumerate(self.hash_list[h]):\n",
    "            if element[0]==key:\n",
    "                del self.hash_list[h][index]\n",
    "        \n",
    "\n",
    "\n",
    "hash1=HashTable(10)\n",
    "hash1['march 6']=150   # or hash1.add('march 6',150)\n",
    "  # or print(hash1.get('march 6')) use of magical function \n",
    "\n",
    "hash1['march 17']=250\n",
    "\n",
    "print(hash1['march 6']) \n",
    "print(hash1['march 19'])\n",
    "del hash1['march 17']\n",
    "print(hash1.hash_list)\n",
    "\n",
    "\n",
    "\n",
    "\n"
   ]
  },
  {
   "cell_type": "code",
   "execution_count": null,
   "id": "bbc2478b",
   "metadata": {},
   "outputs": [],
   "source": []
  }
 ],
 "metadata": {
  "kernelspec": {
   "display_name": "Python 3 (ipykernel)",
   "language": "python",
   "name": "python3"
  },
  "language_info": {
   "codemirror_mode": {
    "name": "ipython",
    "version": 3
   },
   "file_extension": ".py",
   "mimetype": "text/x-python",
   "name": "python",
   "nbconvert_exporter": "python",
   "pygments_lexer": "ipython3",
   "version": "3.9.7"
  }
 },
 "nbformat": 4,
 "nbformat_minor": 5
}
