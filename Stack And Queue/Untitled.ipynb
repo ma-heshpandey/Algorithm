{
 "cells": [
  {
   "cell_type": "code",
   "execution_count": 34,
   "id": "d1bfe139",
   "metadata": {},
   "outputs": [
    {
     "data": {
      "text/plain": [
       "True"
      ]
     },
     "execution_count": 34,
     "metadata": {},
     "output_type": "execute_result"
    }
   ],
   "source": [
    "from collections import deque\n",
    "\n",
    "class Queue(deque):\n",
    "    \n",
    "    def __init__(self):\n",
    "        super(deque,self).__init__()\n",
    "        \n",
    "    def enqueue(self,val):\n",
    "        super().appendleft(val)\n",
    "        \n",
    "    def dequeue(self):\n",
    "        return super().pop()\n",
    "    \n",
    "    def is_empty(self):\n",
    "        length=len(self)\n",
    "        if length==0:\n",
    "            return True\n",
    "        else:\n",
    "            return False\n",
    "    \n",
    "q=Queue()\n",
    "q.enqueue(23)\n",
    "q.enqueue(24)\n",
    "q.dequeue()\n",
    "q.dequeue()\n",
    "q.is_empty()\n"
   ]
  },
  {
   "cell_type": "code",
   "execution_count": null,
   "id": "46fb3303",
   "metadata": {},
   "outputs": [],
   "source": []
  }
 ],
 "metadata": {
  "kernelspec": {
   "display_name": "Python 3 (ipykernel)",
   "language": "python",
   "name": "python3"
  },
  "language_info": {
   "codemirror_mode": {
    "name": "ipython",
    "version": 3
   },
   "file_extension": ".py",
   "mimetype": "text/x-python",
   "name": "python",
   "nbconvert_exporter": "python",
   "pygments_lexer": "ipython3",
   "version": "3.9.7"
  }
 },
 "nbformat": 4,
 "nbformat_minor": 5
}
